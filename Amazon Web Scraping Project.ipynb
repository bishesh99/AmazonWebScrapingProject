{
 "cells": [
  {
   "cell_type": "code",
   "execution_count": null,
   "id": "87c9d1fe",
   "metadata": {},
   "outputs": [],
   "source": [
    "#import libraries\n",
    "from bs4 import BeautifulSoup as bs\n",
    "import requests as re # for importing url\n",
    "import smtplib # sending email\n",
    "import time\n",
    "#import datetime"
   ]
  },
  {
   "cell_type": "code",
   "execution_count": null,
   "id": "f589600a",
   "metadata": {},
   "outputs": [],
   "source": [
    "# connect to website, open amazon url\n",
    "url=\"https://www.amazon.in/Apple-iPhone-Pro-128GB-Gold/dp/B0BDJKL7KY/ref=sr_1_5?keywords=iphone%2B14%2Bpro%2Bmax&qid=1674063459&sr=8-5&th=1\"\n",
    "#from httpbin.org/get\n",
    "headers={\"User-Agent\": \"Mozilla/5.0 (Windows NT 10.0; Win64; x64) AppleWebKit/537.36 (KHTML, like Gecko) Chrome/109.0.0.0 Safari/537.36\"}\n",
    "\n",
    "page= re.get(url, headers=headers)\n",
    "\n",
    "soup1 = bs(page.content, \"html.parser\")\n",
    "soup2= bs(soup1.prettify(),\"html.parser\")\n",
    "\n",
    "title= soup2.find(id='productTitle').get_text().strip()\n",
    "price= soup2.find(class_='a-price-whole').get_text().strip()\n",
    "price=price.replace(\",\",\"\")\n",
    "price=int(price[:6])\n",
    "print(title)\n",
    "print(price)"
   ]
  },
  {
   "cell_type": "code",
   "execution_count": null,
   "id": "1222466d",
   "metadata": {},
   "outputs": [],
   "source": [
    "def send_mail():\n",
    "    # creates SMTP session\n",
    "    s = smtplib.SMTP('smtp.gmail.com', 587)\n",
    " \n",
    "    # start TLS for security\n",
    "    s.starttls()\n",
    " \n",
    "    # Authentication\n",
    "    s.login(\"sender_email_id\", \"sender_email_id_password\") # use github secrets for mail id and password\n",
    " \n",
    "    # message to be sent\n",
    "    message = \"Price is in the provided range, Hurry check the link\" + url\n",
    " \n",
    "    # sending the mail\n",
    "    s.sendmail(\"sender_email_id\", \"receiver_email_id\", message)\n",
    " \n",
    "    # terminating the session\n",
    "    s.quit()\n",
    "    \n",
    "while(True):\n",
    "    if price < 120000:\n",
    "        send_mail()\n",
    "    time.sleep(17280) # checks 5 times a day, i.e. 86400/5\n"
   ]
  }
 ],
 "metadata": {
  "kernelspec": {
   "display_name": "Python 3",
   "language": "python",
   "name": "python3"
  },
  "language_info": {
   "codemirror_mode": {
    "name": "ipython",
    "version": 3
   },
   "file_extension": ".py",
   "mimetype": "text/x-python",
   "name": "python",
   "nbconvert_exporter": "python",
   "pygments_lexer": "ipython3",
   "version": "3.8.8"
  }
 },
 "nbformat": 4,
 "nbformat_minor": 5
}
